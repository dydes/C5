{
 "metadata": {
  "language_info": {
   "codemirror_mode": {
    "name": "ipython",
    "version": 3
   },
   "file_extension": ".py",
   "mimetype": "text/x-python",
   "name": "python",
   "nbconvert_exporter": "python",
   "pygments_lexer": "ipython3",
   "version": "3.9.4"
  },
  "orig_nbformat": 2,
  "kernelspec": {
   "name": "python394jvsc74a57bd061df216d76c3d2b66cd15eec28ee42c958342d4c83f4bda9f5af70bd9162180b",
   "display_name": "Python 3.9.4 64-bit"
  },
  "metadata": {
   "interpreter": {
    "hash": "61df216d76c3d2b66cd15eec28ee42c958342d4c83f4bda9f5af70bd9162180b"
   }
  }
 },
 "nbformat": 4,
 "nbformat_minor": 2,
 "cells": [
  {
   "cell_type": "code",
   "execution_count": 1,
   "metadata": {},
   "outputs": [],
   "source": [
    "#引入包\n",
    "import xlwings as xw"
   ]
  },
  {
   "cell_type": "code",
   "execution_count": 2,
   "metadata": {},
   "outputs": [],
   "source": [
    "app = xw.App(visible=True, add_book=False)\n",
    "app.display_alerts = True   #关闭一些提示信息，可以加快运行速度。 默认为 True。\n",
    "app.screen_updating = True   #更新显示工作表的内容。默认为 True。关闭它也可以提升运行速度。"
   ]
  },
  {
   "cell_type": "code",
   "execution_count": 3,
   "metadata": {},
   "outputs": [],
   "source": [
    "#新建工作簿。\n",
    "wb = app.books.add()"
   ]
  },
  {
   "cell_type": "code",
   "execution_count": 4,
   "metadata": {},
   "outputs": [],
   "source": [
    "#获取当前活动工作表\n",
    "sht = wb.sheets.active"
   ]
  },
  {
   "cell_type": "code",
   "execution_count": 5,
   "metadata": {},
   "outputs": [],
   "source": [
    "#保存文件，不改名直接保存在当前目录用.save(path=None)\n",
    "wb.save(r'D:\\python\\测试.xlsx')"
   ]
  },
  {
   "cell_type": "code",
   "execution_count": 6,
   "metadata": {},
   "outputs": [],
   "source": [
    "#单元格写入内容\n",
    "sht.range('A1').value = 1\n",
    "sht.range('A2').value = [1,2,3]   #等同于('A2:C2')\n",
    "sht.range('A3').options(transpose=True).value=[1,2,3]   #按列写入值\n",
    "sht.range('A4').options(expand='table').value=[[1,2],[3,4]]"
   ]
  },
  {
   "cell_type": "code",
   "execution_count": null,
   "metadata": {},
   "outputs": [],
   "source": []
  }
 ]
}