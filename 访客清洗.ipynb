{
 "metadata": {
  "language_info": {
   "codemirror_mode": {
    "name": "ipython",
    "version": 3
   },
   "file_extension": ".py",
   "mimetype": "text/x-python",
   "name": "python",
   "nbconvert_exporter": "python",
   "pygments_lexer": "ipython3",
   "version": "3.9.4"
  },
  "orig_nbformat": 2,
  "kernelspec": {
   "name": "python394jvsc74a57bd061df216d76c3d2b66cd15eec28ee42c958342d4c83f4bda9f5af70bd9162180b",
   "display_name": "Python 3.9.4 64-bit"
  },
  "metadata": {
   "interpreter": {
    "hash": "61df216d76c3d2b66cd15eec28ee42c958342d4c83f4bda9f5af70bd9162180b"
   }
  }
 },
 "nbformat": 4,
 "nbformat_minor": 2,
 "cells": [
  {
   "cell_type": "code",
   "execution_count": 4,
   "metadata": {},
   "outputs": [],
   "source": [
    "#引入包\n",
    "import pandas as pd\n",
    "import numpy as np"
   ]
  },
  {
   "cell_type": "code",
   "execution_count": null,
   "metadata": {},
   "outputs": [],
   "source": [
    "#导入csv数据\n",
    "#dtype = str,最好读取的时候都以字符串的形式读入，不然可能会使数据失真\n",
    "#比如一个0010008的编号可能会读取成10008\n",
    "# encoding = \"ISO-8859-1\" -- 用什么解码，一般会默认系统的编码，如果是中文就用 \"utf-8\"\n",
    "\n",
    "fileNameStr = 'D:\\会通\\测试.csv' \n",
    "DataDF = pd.read_csv(fileNameStr,encoding = \"ISO-8859-1\",dtype = str) "
   ]
  }
 ]
}