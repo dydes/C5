{
 "metadata": {
  "language_info": {
   "codemirror_mode": {
    "name": "ipython",
    "version": 3
   },
   "file_extension": ".py",
   "mimetype": "text/x-python",
   "name": "python",
   "nbconvert_exporter": "python",
   "pygments_lexer": "ipython3",
   "version": "3.8.8"
  },
  "orig_nbformat": 2,
  "kernelspec": {
   "name": "python388jvsc74a57bd0c722b66b8a2f5fa2d924886b1f2bbbe0df69bf08365f6f4479c8621648d4a41d",
   "display_name": "Python 3.8.8 64-bit ('base': conda)"
  }
 },
 "nbformat": 4,
 "nbformat_minor": 2,
 "cells": [
  {
   "cell_type": "code",
   "execution_count": 80,
   "metadata": {},
   "outputs": [],
   "source": [
    "# -*- coding: utf-8 -*-\n",
    "import pandas as pd\n",
    "\n",
    "#设置显示所有行列\n",
    "#pd.set_option('display.max_columns',None)\n",
    "#pd.set_option('display.max_rows',None)\n",
    "\n",
    "#设置显示value的长度为100，默认为50\n",
    "#pd.set_option('max_colwidth',100)\n",
    "\n",
    "#屏幕上显示的宽度\n",
    "#pd.set_option('display.width', 1000)"
   ]
  },
  {
   "cell_type": "code",
   "execution_count": 81,
   "metadata": {},
   "outputs": [],
   "source": [
    "df = pd.read_csv(\n",
    "    #读取文件的路径\n",
    "    filepath_or_buffer= r\"/Users/htuser-7/Downloads/se1-sellerexpt-39b000000179ee7baea40a2064e0-8.csv\",\n",
    "    #分隔符csv文件默认为逗号，其他常见的\"\\t\"\n",
    "    sep=',',\n",
    "    #跳过前多少行的数据不读取\n",
    "    #skiprows=1,\n",
    "    #只读取前多少行\n",
    "    nrows=10,\n",
    "    #将指定的列读取为日期格式，若不指定则为字符串\n",
    "    #parse_dates=['交易日期'],\n",
    "    #将指定列设置为index，不指定则默认为0，1，2\n",
    "    #index_col=['交易日期'],\n",
    "    #读取指定的几列数据，不指定则全部读取\n",
    "    #usecols=['交易日期','股票代码'],\n",
    "    #某行数据报错则直接跳过\n",
    "    #error_bad_lines=False,\n",
    "    #将数据中的null识别为空值\n",
    "    #na_values='NULL'\n",
    "    )"
   ]
  },
  {
   "cell_type": "code",
   "execution_count": 75,
   "metadata": {},
   "outputs": [
    {
     "output_type": "stream",
     "name": "stdout",
     "text": [
      "(10, 108)\n10\n108\n"
     ]
    }
   ],
   "source": [
    "#输出刚刚读取的数据有多少行多少列\n",
    "print(df.shape)\n",
    "\n",
    "#输出刚刚读取的数据有多少行\n",
    "print(df.shape[0])\n",
    "\n",
    "#输出刚刚读取的数据有多少列\n",
    "print(df.shape[1])"
   ]
  },
  {
   "cell_type": "code",
   "execution_count": 83,
   "metadata": {},
   "outputs": [
    {
     "output_type": "stream",
     "name": "stdout",
     "text": [
      "Index(['订单编号', '订单状态', '下单时间', '支付时间', '发货时间', '确认收货时间', '配送方式', '订单类型', '支付方式', '商品名称',\n       ...\n       '团购名称', '团购活动时间', '团长姓名', '团长手机号', '配送员', '定时达时间', 'ip服务费', '退款-ip服务费', '公益金', '退款公益金'], dtype='object', length=108)\n"
     ]
    }
   ],
   "source": [
    "#顺序输出每一列的名称，是一个列表\n",
    "print(df.columns)"
   ]
  },
  {
   "cell_type": "code",
   "execution_count": 84,
   "metadata": {},
   "outputs": [
    {
     "output_type": "stream",
     "name": "stdout",
     "text": [
      "订单编号              int64\n订单状态             object\n下单时间             object\n支付时间             object\n发货时间            float64\n确认收货时间          float64\n配送方式             object\n订单类型             object\n支付方式             object\n商品名称             object\n商品型号             object\n发货状态             object\n商品件数              int64\n商品ID              int64\nSKU ID            int64\n商品编码            float64\n型号编码             object\n使用日期            float64\n商品ID（供货）        float64\n商品原始单价            int64\n单品折扣后单价           int64\n单品折扣详情           object\n商品金额合计            int64\n商品积分合计            int64\n店铺优惠合计            int64\n预售首款              int64\n应收金额              int64\n应收积分              int64\n实付金额              int64\n商品已退款金额           int64\n商品已退款积分           int64\n退款状态            float64\n成本价（单价）           int64\n收货人/提货人姓名        object\n收货人/提货人手机号        int64\n省                object\n市                object\n区                object\n收货/提货详细地址        object\n发货方             float64\n物流公司            float64\n物流单号            float64\n下单来源             object\n外部渠道            float64\n外部渠道商家ID        float64\n外部渠道内容ID        float64\n下单模板信息          float64\n买家留言            float64\n卖家备注            float64\n分销商备注           float64\n微信号             float64\n身份证号            float64\n下单账号              int64\n下单微信             object\n会员身份            float64\n客户标签            float64\n分销商店铺ID         float64\n分销商店铺名称         float64\n分销商注册姓名         float64\n分销商手机号          float64\n供应商ID           float64\n供应商店铺名称         float64\n供应商手机号          float64\n分成金额              int64\n分销邀请奖励金           int64\n分销招募奖励金         float64\n退款-分成金额           int64\n退款-分销邀请奖励金        int64\n退款-分销招募奖励金        int64\n推广员id           float64\n推广员佣金             int64\n邀请人ID           float64\n邀请奖励金             int64\n退款-粉丝佣金           int64\n退款-邀请奖励金          int64\n推广员名称           float64\n推广员备注           float64\n供货商店铺ID         float64\n供货商店铺名称         float64\n供货商店铺手机号        float64\n货源销售商ID         float64\n货源销售商店铺名称       float64\n货源销售商店铺手机号      float64\n供货价               int64\n货款                int64\n销售商佣金收入         float64\n销售商补差金额           int64\n合作供应商名称         float64\n合作供应商手机号        float64\n网店名称            float64\n网店商品类型          float64\n连锁店总部分成金额       float64\n退款-连锁店总部分成金额    float64\n退款类型            float64\n退货物流单号          float64\n退货物流公司          float64\n核销人员            float64\n旅游门票信息          float64\n团购名称            float64\n团购活动时间          float64\n团长姓名            float64\n团长手机号           float64\n配送员             float64\n定时达时间           float64\nip服务费           float64\n退款-ip服务费        float64\n公益金             float64\n退款公益金           float64\ndtype: object\n"
     ]
    }
   ],
   "source": [
    "#展示每个字段的类型，如果没加pd.set_option('display.max_columns',None)，列数多会有省略\n",
    "print(df.dtypes)"
   ]
  },
  {
   "cell_type": "code",
   "execution_count": 85,
   "metadata": {},
   "outputs": [
    {
     "output_type": "stream",
     "name": "stdout",
     "text": [
      "              订单编号 订单状态            下单时间            支付时间  发货时间  确认收货时间  配送方式  订单类型 支付方式                           商品名称                    商品型号 发货状态  商品件数        商品ID       SKU ID  商品编码 型号编码  使用日期  商品ID（供货）  商品原始单价  单品折扣后单价       单品折扣详情  商品金额合计  商品积分合计  店铺优惠合计  预售首款  应收金额  应收积分  实付金额  商品已退款金额  商品已退款积分  退款状态  成本价（单价） 收货人/提货人姓名   收货人/提货人手机号    省     市    区                    收货/提货详细地址  发货方  物流公司  物流单号   下单来源  外部渠道  外部渠道商家ID  外部渠道内容ID  下单模板信息  买家留言  卖家备注  分销商备注  微信号  身份证号         下单账号 下单微信  会员身份  客户标签  分销商店铺ID  分销商店铺名称  分销商注册姓名  分销商手机号  供应商ID  供应商店铺名称  供应商手机号  分成金额  分销邀请奖励金  分销招募奖励金  退款-分成金额  退款-分销邀请奖励金  退款-分销招募奖励金  推广员id  推广员佣金  邀请人ID  邀请奖励金  退款-粉丝佣金  退款-邀请奖励金  推广员名称  推广员备注  供货商店铺ID  供货商店铺名称  供货商店铺手机号  货源销售商ID  货源销售商店铺名称  货源销售商店铺手机号  供货价  货款  销售商佣金收入  销售商补差金额  合作供应商名称  合作供应商手机号  网店名称  网店商品类型  连锁店总部分成金额  退款-连锁店总部分成金额  退款类型  退货物流单号  退货物流公司  核销人员  旅游门票信息  团购名称  团购活动时间  团长姓名  团长手机号  配送员  定时达时间  ip服务费  退款-ip服务费  公益金  退款公益金\n0  815051583996943  待发货   2021/6/9 4:54   2021/6/9 4:54   NaN     NaN  快递发货  担保交易  借记卡  云南建水日光晴王 | 葡萄王者 高原阳光孕育 玫瑰香甜味足      3斤精品版 2-3串 单粒8-10g  待发货     1  4376984239  48042105955   NaN  NaN   NaN       NaN     228      210  群团购(-18.00)     210       0       0     0   210     0   210        0        0   NaN      188       赵红艳  13671137426  北京市   朝阳区  NaN  北京市 朝阳区   和平街12区20号楼东单元1302  NaN   NaN   NaN  微店小程序   NaN       NaN       NaN     NaN   NaN   NaN    NaN  NaN   NaN  13811658760   令扬   NaN   NaN      NaN      NaN      NaN     NaN    NaN      NaN     NaN     0        0      NaN        0           0           0    NaN      0    NaN      0        0         0    NaN    NaN      NaN      NaN       NaN      NaN        NaN         NaN    0   0      NaN        0      NaN       NaN   NaN     NaN        NaN           NaN   NaN     NaN     NaN   NaN     NaN   NaN     NaN   NaN    NaN  NaN    NaN    NaN       NaN  NaN    NaN\n1  815051319270742  待发货  2021/6/8 22:41  2021/6/8 22:41   NaN     NaN  快递发货  直接到账  借记卡  云南建水日光晴王 | 葡萄王者 高原阳光孕育 玫瑰香甜味足      3斤精品版 2-3串 单粒8-10g  待发货     1  4376984239  48042105955   NaN  NaN   NaN       NaN     228      228          NaN     228       0       0     0   228     0   228        0        0   NaN      188       杨文秀  13582188388  河北省  石家庄市  正定县    河北省 石家庄市 正定县 正定镇 墅洋居礼16-3  NaN   NaN   NaN   微店页面   NaN       NaN       NaN     NaN   NaN   NaN    NaN  NaN   NaN  18600369082  李素娟   NaN   NaN      NaN      NaN      NaN     NaN    NaN      NaN     NaN     0        0      NaN        0           0           0    NaN      0    NaN      0        0         0    NaN    NaN      NaN      NaN       NaN      NaN        NaN         NaN    0   0      NaN        0      NaN       NaN   NaN     NaN        NaN           NaN   NaN     NaN     NaN   NaN     NaN   NaN     NaN   NaN    NaN  NaN    NaN    NaN       NaN  NaN    NaN\n2  815051107802454  待发货  2021/6/8 22:40  2021/6/8 22:40   NaN     NaN  快递发货  直接到账  借记卡  仙居荸荠杨梅 | 酸甜多汁 风味可口 江浙沪皖可减20元！  3斤装优等果 8盒气调锁鲜装 每盒18颗杨梅  待发货     1  4376964096  48031590412   NaN  NaN   NaN       NaN     198      198          NaN     198       0       0     0   198     0   198        0        0   NaN       95       李素娟  18600369082  北京市   朝阳区  NaN  北京市 朝阳区   望京大西洋新城313-1-1601  NaN   NaN   NaN  微店小程序   NaN       NaN       NaN     NaN   NaN   NaN    NaN  NaN   NaN  18600369082  李素娟   NaN   NaN      NaN      NaN      NaN     NaN    NaN      NaN     NaN     0        0      NaN        0           0           0    NaN      0    NaN      0        0         0    NaN    NaN      NaN      NaN       NaN      NaN        NaN         NaN    0   0      NaN        0      NaN       NaN   NaN     NaN        NaN           NaN   NaN     NaN     NaN   NaN     NaN   NaN     NaN   NaN    NaN  NaN    NaN    NaN       NaN  NaN    NaN\n"
     ]
    }
   ],
   "source": [
    "#看前多少行的数据\n",
    "print(df.head(3))"
   ]
  },
  {
   "cell_type": "code",
   "execution_count": 86,
   "metadata": {},
   "outputs": [
    {
     "output_type": "stream",
     "name": "stdout",
     "text": [
      "              订单编号 订单状态            下单时间            支付时间  发货时间  确认收货时间  配送方式  订单类型 支付方式                           商品名称                 商品型号 发货状态  商品件数        商品ID       SKU ID  商品编码       型号编码  使用日期  商品ID（供货）  商品原始单价  单品折扣后单价 单品折扣详情  商品金额合计  商品积分合计  店铺优惠合计  预售首款  应收金额  应收积分  实付金额  商品已退款金额  商品已退款积分  退款状态  成本价（单价） 收货人/提货人姓名   收货人/提货人手机号     省     市    区                           收货/提货详细地址  发货方  物流公司  物流单号   下单来源  外部渠道  外部渠道商家ID  外部渠道内容ID  下单模板信息  买家留言  卖家备注  分销商备注  微信号  身份证号         下单账号  下单微信  会员身份  客户标签  分销商店铺ID  分销商店铺名称  分销商注册姓名  分销商手机号  供应商ID  供应商店铺名称  供应商手机号  分成金额  分销邀请奖励金  分销招募奖励金  退款-分成金额  退款-分销邀请奖励金  退款-分销招募奖励金  推广员id  推广员佣金  邀请人ID  邀请奖励金  退款-粉丝佣金  退款-邀请奖励金  推广员名称  推广员备注  供货商店铺ID  供货商店铺名称  供货商店铺手机号  货源销售商ID  货源销售商店铺名称  货源销售商店铺手机号  供货价  货款  销售商佣金收入  销售商补差金额  合作供应商名称  合作供应商手机号  网店名称  网店商品类型  连锁店总部分成金额  退款-连锁店总部分成金额  退款类型  退货物流单号  退货物流公司  核销人员  旅游门票信息  团购名称  团购活动时间  团长姓名  团长手机号  配送员  定时达时间  ip服务费  退款-ip服务费  公益金  退款公益金\n7  815050485635949  待发货  2021/6/8 21:09  2021/6/8 21:10   NaN     NaN  快递发货  担保交易  借记卡     烟台黄蜜水晶甜樱桃 | 年年必吃 口感超甜 皮薄水多  5斤装中大果 果径18-22mm及以上  待发货     1  2814668702  48029366917   NaN        NaN   NaN       NaN     228      228    NaN     228       0       0     0   228     0   228        0        0   NaN      160       赵静霞  18911988019  黑龙江省  牡丹江市  爱民区  黑龙江省 牡丹江市 爱民区 大庆街道 希望家园A19号楼1单元603  NaN   NaN   NaN   微店页面   NaN       NaN       NaN     NaN   NaN   NaN    NaN  NaN   NaN  18001051123  绿毛小?   NaN   NaN      NaN      NaN      NaN     NaN    NaN      NaN     NaN     0        0      NaN        0           0           0    NaN      0    NaN      0        0         0    NaN    NaN      NaN      NaN       NaN      NaN        NaN         NaN    0   0      NaN        0      NaN       NaN   NaN     NaN        NaN           NaN   NaN     NaN     NaN   NaN     NaN   NaN     NaN   NaN    NaN  NaN    NaN    NaN       NaN  NaN    NaN\n8  815050364279019  待付款  2021/6/8 20:59             NaN   NaN     NaN  快递发货  担保交易  NaN  沂蒙山农家手工红薯粉条粉皮 无色素无明矾无明胶等负面添加剂              5斤装红薯粉条  NaN     1  3167386782  22209445662   NaN        NaN   NaN       NaN      75       75    NaN      75       0       0     0    75     0    75        0        0   NaN       60       宋小姐  13915500929   江苏省   苏州市  吴中区       江苏省 苏州市 吴中区  金枫路合景领峰花园12幢1203  NaN   NaN   NaN  微店APP   NaN       NaN       NaN     NaN   NaN   NaN    NaN  NaN   NaN  13915500929   NaN   NaN   NaN      NaN      NaN      NaN     NaN    NaN      NaN     NaN     0        0      NaN        0           0           0    NaN      0    NaN      0        0         0    NaN    NaN      NaN      NaN       NaN      NaN        NaN         NaN    0   0      NaN        0      NaN       NaN   NaN     NaN        NaN           NaN   NaN     NaN     NaN   NaN     NaN   NaN     NaN   NaN    NaN  NaN    NaN    NaN       NaN  NaN    NaN\n9  815050364279019  待付款  2021/6/8 20:59             NaN   NaN     NaN  快递发货  担保交易  NaN           若羌灰枣 原生态未洗带土 2020年新枣           一级枣散装 净重6斤  NaN     1  2115657671  25087815109   NaN  ZBYS00601   NaN       NaN      89       89    NaN      89       0       0     0    89     0    89        0        0   NaN       49       宋小姐  13915500929   江苏省   苏州市  吴中区       江苏省 苏州市 吴中区  金枫路合景领峰花园12幢1203  NaN   NaN   NaN  微店APP   NaN       NaN       NaN     NaN   NaN   NaN    NaN  NaN   NaN  13915500929   NaN   NaN   NaN      NaN      NaN      NaN     NaN    NaN      NaN     NaN     0        0      NaN        0           0           0    NaN      0    NaN      0        0         0    NaN    NaN      NaN      NaN       NaN      NaN        NaN         NaN    0   0      NaN        0      NaN       NaN   NaN     NaN        NaN           NaN   NaN     NaN     NaN   NaN     NaN   NaN     NaN   NaN    NaN  NaN    NaN    NaN       NaN  NaN    NaN\n"
     ]
    }
   ],
   "source": [
    "#看后多少行的数据\n",
    "print(df.tail(3))"
   ]
  },
  {
   "cell_type": "code",
   "execution_count": null,
   "metadata": {},
   "outputs": [],
   "source": []
  }
 ]
}